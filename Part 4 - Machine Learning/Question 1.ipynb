{
 "cells": [
  {
   "cell_type": "markdown",
   "id": "06cb3d82",
   "metadata": {},
   "source": [
    "# Which cards are most effective in winning battles?\n",
    "\n",
    "We will be splitting the total battle logs into 30:70 with 70% of the data going to trainings set and the remaining 30% as testing set"
   ]
  },
  {
   "cell_type": "code",
   "execution_count": 26,
   "id": "e21e95ce",
   "metadata": {
    "scrolled": true
   },
   "outputs": [
    {
     "name": "stdout",
     "output_type": "stream",
     "text": [
      "Requirement already satisfied: graphviz in c:\\users\\arthu\\anaconda3\\lib\\site-packages (0.20.1)\n",
      "Requirement already satisfied: pydotplus in c:\\users\\arthu\\anaconda3\\lib\\site-packages (2.0.2)\n",
      "Requirement already satisfied: pyparsing>=2.0.1 in c:\\users\\arthu\\anaconda3\\lib\\site-packages (from pydotplus) (3.0.9)\n"
     ]
    }
   ],
   "source": [
    "!pip install graphviz\n",
    "!pip install pydotplus\n",
    "\n",
    "import pandas as pd\n",
    "from sklearn.model_selection import train_test_split\n",
    "from sklearn.tree import DecisionTreeClassifier\n",
    "from sklearn.ensemble import RandomForestClassifier, GradientBoostingClassifier\n",
    "from sklearn.metrics import accuracy_score\n",
    "from sklearn.preprocessing import MultiLabelBinarizer\n",
    "import ast\n"
   ]
  },
  {
   "cell_type": "code",
   "execution_count": 27,
   "id": "7160c09e",
   "metadata": {},
   "outputs": [
    {
     "data": {
      "text/html": [
       "<div>\n",
       "<style scoped>\n",
       "    .dataframe tbody tr th:only-of-type {\n",
       "        vertical-align: middle;\n",
       "    }\n",
       "\n",
       "    .dataframe tbody tr th {\n",
       "        vertical-align: top;\n",
       "    }\n",
       "\n",
       "    .dataframe thead th {\n",
       "        text-align: right;\n",
       "    }\n",
       "</style>\n",
       "<table border=\"1\" class=\"dataframe\">\n",
       "  <thead>\n",
       "    <tr style=\"text-align: right;\">\n",
       "      <th></th>\n",
       "      <th>type</th>\n",
       "      <th>gameMode</th>\n",
       "      <th>crowns1</th>\n",
       "      <th>startingTrophies2</th>\n",
       "      <th>crowns2</th>\n",
       "      <th>deck1</th>\n",
       "      <th>deck2</th>\n",
       "      <th>max_level_1</th>\n",
       "      <th>level_1</th>\n",
       "      <th>max_level_2</th>\n",
       "      <th>level_2</th>\n",
       "      <th>avg_cards_level_1</th>\n",
       "      <th>avg_cards_level_2</th>\n",
       "      <th>avg_cards_level_diff</th>\n",
       "      <th>1_won</th>\n",
       "      <th>2_won</th>\n",
       "    </tr>\n",
       "  </thead>\n",
       "  <tbody>\n",
       "    <tr>\n",
       "      <th>0</th>\n",
       "      <td>PvP</td>\n",
       "      <td>{'id': 72000201, 'name': 'Ladder_CrownRush'}</td>\n",
       "      <td>0</td>\n",
       "      <td>5807.0</td>\n",
       "      <td>3</td>\n",
       "      <td>[Arrows, Bomber, Electro Wizard, Skeleton Army...</td>\n",
       "      <td>[Magic Archer, Mega Knight, Electro Wizard, Go...</td>\n",
       "      <td>[14, 14, 6, 9, 14, 12, 12, 6]</td>\n",
       "      <td>[11, 12, 2, 5, 14, 12, 10, 3]</td>\n",
       "      <td>[6, 6, 6, 9, 6, 9, 14, 12]</td>\n",
       "      <td>[4, 6, 4, 8, 3, 9, 13, 12]</td>\n",
       "      <td>11.75</td>\n",
       "      <td>12.875</td>\n",
       "      <td>1.125</td>\n",
       "      <td>False</td>\n",
       "      <td>True</td>\n",
       "    </tr>\n",
       "    <tr>\n",
       "      <th>1</th>\n",
       "      <td>PvP</td>\n",
       "      <td>{'id': 72000201, 'name': 'Ladder_CrownRush'}</td>\n",
       "      <td>0</td>\n",
       "      <td>5857.0</td>\n",
       "      <td>2</td>\n",
       "      <td>[Arrows, Bomber, Electro Wizard, Skeleton Army...</td>\n",
       "      <td>[Mini P.E.K.K.A, Wall Breakers, Valkyrie, Gobl...</td>\n",
       "      <td>[14, 14, 6, 9, 14, 12, 12, 6]</td>\n",
       "      <td>[11, 12, 2, 5, 14, 12, 10, 3]</td>\n",
       "      <td>[12, 9, 12, 9, 12, 9, 14, 6]</td>\n",
       "      <td>[12, 7, 10, 8, 10, 9, 12, 4]</td>\n",
       "      <td>11.75</td>\n",
       "      <td>12.625</td>\n",
       "      <td>0.875</td>\n",
       "      <td>False</td>\n",
       "      <td>True</td>\n",
       "    </tr>\n",
       "  </tbody>\n",
       "</table>\n",
       "</div>"
      ],
      "text/plain": [
       "  type                                      gameMode  crowns1  \\\n",
       "0  PvP  {'id': 72000201, 'name': 'Ladder_CrownRush'}        0   \n",
       "1  PvP  {'id': 72000201, 'name': 'Ladder_CrownRush'}        0   \n",
       "\n",
       "   startingTrophies2  crowns2  \\\n",
       "0             5807.0        3   \n",
       "1             5857.0        2   \n",
       "\n",
       "                                               deck1  \\\n",
       "0  [Arrows, Bomber, Electro Wizard, Skeleton Army...   \n",
       "1  [Arrows, Bomber, Electro Wizard, Skeleton Army...   \n",
       "\n",
       "                                               deck2  \\\n",
       "0  [Magic Archer, Mega Knight, Electro Wizard, Go...   \n",
       "1  [Mini P.E.K.K.A, Wall Breakers, Valkyrie, Gobl...   \n",
       "\n",
       "                     max_level_1                        level_1  \\\n",
       "0  [14, 14, 6, 9, 14, 12, 12, 6]  [11, 12, 2, 5, 14, 12, 10, 3]   \n",
       "1  [14, 14, 6, 9, 14, 12, 12, 6]  [11, 12, 2, 5, 14, 12, 10, 3]   \n",
       "\n",
       "                    max_level_2                       level_2  \\\n",
       "0    [6, 6, 6, 9, 6, 9, 14, 12]    [4, 6, 4, 8, 3, 9, 13, 12]   \n",
       "1  [12, 9, 12, 9, 12, 9, 14, 6]  [12, 7, 10, 8, 10, 9, 12, 4]   \n",
       "\n",
       "   avg_cards_level_1  avg_cards_level_2  avg_cards_level_diff  1_won  2_won  \n",
       "0              11.75             12.875                 1.125  False   True  \n",
       "1              11.75             12.625                 0.875  False   True  "
      ]
     },
     "execution_count": 27,
     "metadata": {},
     "output_type": "execute_result"
    }
   ],
   "source": [
    "df=pd.read_csv(\"../Common/Final Cleaned/battle_log_cleaned.csv\")\n",
    "df['deck1'] = df['deck1'].apply(ast.literal_eval)\n",
    "df['deck2'] = df['deck2'].apply(ast.literal_eval)\n",
    "df.head(2)"
   ]
  },
  {
   "cell_type": "code",
   "execution_count": 28,
   "id": "5b798146",
   "metadata": {},
   "outputs": [],
   "source": [
    "mlb = MultiLabelBinarizer()\n",
    "X = mlb.fit_transform(df[\"deck1\"])\n",
    "y = df[\"1_won\"]"
   ]
  },
  {
   "cell_type": "code",
   "execution_count": 29,
   "id": "8fd17a4d",
   "metadata": {},
   "outputs": [],
   "source": [
    "X_train, X_test, y_train, y_test = train_test_split(X, y, test_size=0.3, random_state=42)"
   ]
  },
  {
   "cell_type": "markdown",
   "id": "811f0a02",
   "metadata": {},
   "source": [
    "## Training Decision Tree Model on the training set"
   ]
  },
  {
   "cell_type": "code",
   "execution_count": 30,
   "id": "68e18bc1",
   "metadata": {},
   "outputs": [
    {
     "data": {
      "text/plain": [
       "DecisionTreeClassifier(random_state=42)"
      ]
     },
     "execution_count": 30,
     "metadata": {},
     "output_type": "execute_result"
    }
   ],
   "source": [
    "dt = DecisionTreeClassifier(random_state=42)\n",
    "dt.fit(X_train, y_train)"
   ]
  },
  {
   "cell_type": "markdown",
   "id": "efbaa521",
   "metadata": {},
   "source": [
    "## Evaluating the decision tree model on the testing set"
   ]
  },
  {
   "cell_type": "code",
   "execution_count": 31,
   "id": "0db2534a",
   "metadata": {},
   "outputs": [
    {
     "name": "stdout",
     "output_type": "stream",
     "text": [
      "Decision Tree accuracy: 0.5347644985581544\n"
     ]
    }
   ],
   "source": [
    "y_pred = dt.predict(X_test)\n",
    "accuracy = accuracy_score(y_test, y_pred)\n",
    "print(\"Decision Tree accuracy:\", accuracy)"
   ]
  },
  {
   "cell_type": "markdown",
   "id": "f9e511e9",
   "metadata": {},
   "source": [
    "## Training a random forest model on the training set & Evaluation"
   ]
  },
  {
   "cell_type": "code",
   "execution_count": 32,
   "id": "8d7f6120",
   "metadata": {},
   "outputs": [
    {
     "data": {
      "text/plain": [
       "RandomForestClassifier(random_state=42)"
      ]
     },
     "execution_count": 32,
     "metadata": {},
     "output_type": "execute_result"
    }
   ],
   "source": [
    "rf = RandomForestClassifier(n_estimators=100, random_state=42)\n",
    "rf.fit(X_train, y_train)\n"
   ]
  },
  {
   "cell_type": "code",
   "execution_count": 33,
   "id": "ad384b2f",
   "metadata": {},
   "outputs": [
    {
     "name": "stdout",
     "output_type": "stream",
     "text": [
      "Random Forest accuracy: 0.543735982057033\n"
     ]
    }
   ],
   "source": [
    "y_pred = rf.predict(X_test)\n",
    "accuracy = accuracy_score(y_test, y_pred)\n",
    "print(\"Random Forest accuracy:\", accuracy)\n"
   ]
  },
  {
   "cell_type": "markdown",
   "id": "1fe2ff8a",
   "metadata": {},
   "source": [
    "## Training a Gradient Boosting model on the training set & Evaluation"
   ]
  },
  {
   "cell_type": "code",
   "execution_count": 34,
   "id": "dd0b94ed",
   "metadata": {},
   "outputs": [
    {
     "data": {
      "text/plain": [
       "GradientBoostingClassifier(random_state=42)"
      ]
     },
     "execution_count": 34,
     "metadata": {},
     "output_type": "execute_result"
    }
   ],
   "source": [
    "gb = GradientBoostingClassifier(n_estimators=100, random_state=42)\n",
    "gb.fit(X_train, y_train)\n"
   ]
  },
  {
   "cell_type": "code",
   "execution_count": 35,
   "id": "a7f1d5d4",
   "metadata": {},
   "outputs": [
    {
     "name": "stdout",
     "output_type": "stream",
     "text": [
      "Gradient Boosting accuracy: 0.543735982057033\n"
     ]
    }
   ],
   "source": [
    "y_pred = gb.predict(X_test)\n",
    "accuracy = accuracy_score(y_test, y_pred)\n",
    "print(\"Gradient Boosting accuracy:\", accuracy)\n"
   ]
  },
  {
   "cell_type": "markdown",
   "id": "8f951807",
   "metadata": {},
   "source": [
    "## Determine the importance of each card feature in the random forest model:"
   ]
  },
  {
   "cell_type": "code",
   "execution_count": 36,
   "id": "4f3292dd",
   "metadata": {
    "scrolled": true
   },
   "outputs": [
    {
     "name": "stdout",
     "output_type": "stream",
     "text": [
      "               Card  Importance\n",
      "102        Valkyrie    0.023955\n",
      "39    Goblin Barrel    0.022463\n",
      "98          The Log    0.021873\n",
      "2            Arrows    0.021782\n",
      "107             Zap    0.021713\n",
      "30         Fireball    0.021688\n",
      "51        Hog Rider    0.021568\n",
      "105          Wizard    0.021566\n",
      "67   Mini P.E.K.K.A    0.021449\n",
      "90    Skeleton Army    0.021148\n"
     ]
    }
   ],
   "source": [
    "card_importance = pd.DataFrame({\n",
    "    \"Card\": mlb.classes_,\n",
    "    \"Importance\": rf.feature_importances_\n",
    "}).sort_values(\"Importance\", ascending=False)\n",
    "print(card_importance.head(10))\n"
   ]
  },
  {
   "cell_type": "code",
   "execution_count": 54,
   "id": "a77373c2",
   "metadata": {
    "scrolled": true
   },
   "outputs": [
    {
     "data": {
      "image/png": "[encoded data removed]",
      "text/plain": [
       "<Figure size 1200x800 with 1 Axes>"
      ]
     },
     "metadata": {},
     "output_type": "display_data"
    }
   ],
   "source": [
    "import matplotlib.pyplot as plt\n",
    "\n",
    "# Plot the importance of each card feature in the random forest model\n",
    "plt.figure(figsize=(12, 8))\n",
    "plt.barh(card_importance[\"Card\"][:20], card_importance[\"Importance\"][:20])\n",
    "plt.title(\"Top 20 Most Important Cards\")\n",
    "plt.xlabel(\"Importance\")\n",
    "plt.ylabel(\"Card\")\n",
    "plt.show()\n",
    "\n"
   ]
  },
  {
   "cell_type": "markdown",
   "id": "05a40058",
   "metadata": {},
   "source": [
    "# Conclusion\n",
    "the top 10 cards that are most effective in winning battles have been identified. The card \"Valkyrie\" has the highest importance score of 0.023955, indicating that it is the most effective card in winning battles. The \"Goblin Barrel\", \"The Log\", \"Arrows\", and \"Zap\" also have high importance scores, suggesting that they are effective cards in winning battles as well.\n",
    "\n",
    "It is important to note that the accuracy of this conclusion depends on the quality and quantity of data used for the machine learning approach. Additionally, the effectiveness of a card in winning battles can also depend on various factors such as the player's playing style, the current meta, and the opponent's deck."
   ]
  }
 ],
 "metadata": {
  "kernelspec": {
   "display_name": "Python 3 (ipykernel)",
   "language": "python",
   "name": "python3"
  },
  "language_info": {
   "codemirror_mode": {
    "name": "ipython",
    "version": 3
   },
   "file_extension": ".py",
   "mimetype": "text/x-python",
   "name": "python",
   "nbconvert_exporter": "python",
   "pygments_lexer": "ipython3",
   "version": "3.9.13"
  }
 },
 "nbformat": 4,
 "nbformat_minor": 5
}

{
 "cells": [
  {
   "cell_type": "code",
   "execution_count": 80,
   "id": "378f0e0c",
   "metadata": {
    "scrolled": true
   },
   "outputs": [],
   "source": [
    "import pandas as pd\n",
    "import ast\n",
    "from sklearn.linear_model import LogisticRegression\n",
    "from sklearn.preprocessing import OneHotEncoder, StandardScaler\n",
    "from sklearn.model_selection import train_test_split\n",
    "from sklearn.metrics import accuracy_score, precision_score, recall_score, f1_score\n"
   ]
  },
  {
   "cell_type": "code",
   "execution_count": 81,
   "id": "6042c11e",
   "metadata": {},
   "outputs": [],
   "source": [
    "# Merge the two dataframes\n",
    "df=pd.read_csv(\"../Common/Final Cleaned/battle_log_cleaned.csv\")\n",
    "cd=pd.read_csv(\"../Common/Final Cleaned/cardsInfo.csv\")\n",
    "df['deck1'] = df['deck1'].apply(ast.literal_eval)\n",
    "df['deck2'] = df['deck2'].apply(ast.literal_eval)\n",
    "df['level_1'] = df['level_1'].apply(ast.literal_eval)\n",
    "df['level_2'] = df['level_2'].apply(ast.literal_eval)\n",
    "\n",
    "\n",
    "\n",
    "# add new columns to the merged dataframe\n",
    "df_merged = pd.DataFrame()\n",
    "\n",
    "# Merge the DataFrames 'df' and 'df_merged' on the common column '1_won'\n",
    "df_merged = df_merged.merge(df[['1_won', 'deck1', 'deck2' ,'level_1', 'level_2']], how='outer', left_index=True, right_index=True)\n",
    "\n",
    "# Rename the columns of the merged DataFrame\n",
    "df_merged.rename(columns={'1_won': 'outcome', 'deck1': 'deck1', 'deck2': 'deck2' ,'level_1':'level_1', 'level_2':'level_2'}, inplace=True)"
   ]
  },
  {
   "cell_type": "code",
   "execution_count": 82,
   "id": "a9e2fa59",
   "metadata": {},
   "outputs": [],
   "source": [
    "hitpoint_cols = [f'hitpoints{i}' for i in range(1, 15)]\n",
    "for col in hitpoint_cols:\n",
    "    if col not in cd.columns:\n",
    "        cd[col] = float('nan')\n",
    "\n",
    "# Function to get hitpoints and elixir for a deck\n",
    "def get_hitpoint_elixir(row, deck_name):\n",
    "    deck = row[deck_name]\n",
    "    level = row[f'level_{deck_name[-1]}']\n",
    "    hitpoint_cols = [f'hitpoints{i}' for i in range(1, 15)]\n",
    "    hitpoints = [cd.loc[cd['name'] == card, f'hitpoints{level[i]}'].values[0] \n",
    "                 if card in cd['name'].values else None for i, card in enumerate(deck)]\n",
    "    elixir = sum([cd.loc[cd['name'] == card, 'elixir'].values[0] \n",
    "                 if card in cd['name'].values else 0 for card in deck])\n",
    "    if None in hitpoints:\n",
    "        return None, None\n",
    "    return hitpoints, elixir\n",
    "\n",
    "# Apply the function to each row in the merged dataframe\n",
    "df_merged['hitpoint_1'], df_merged['elixir_1'] = zip(*df_merged.apply(lambda row: get_hitpoint_elixir(row, 'deck1'), axis=1))\n",
    "df_merged = df_merged.dropna()\n",
    "\n",
    "df_merged['hitpoint_2'], df_merged['elixir_2'] = zip(*df_merged.apply(lambda row: get_hitpoint_elixir(row, 'deck2'), axis=1))\n",
    "df_merged = df_merged.dropna()\n",
    "\n"
   ]
  },
  {
   "cell_type": "code",
   "execution_count": 83,
   "id": "03cd1102",
   "metadata": {
    "scrolled": true
   },
   "outputs": [
    {
     "data": {
      "text/html": [
       "<div>\n",
       "<style scoped>\n",
       "    .dataframe tbody tr th:only-of-type {\n",
       "        vertical-align: middle;\n",
       "    }\n",
       "\n",
       "    .dataframe tbody tr th {\n",
       "        vertical-align: top;\n",
       "    }\n",
       "\n",
       "    .dataframe thead th {\n",
       "        text-align: right;\n",
       "    }\n",
       "</style>\n",
       "<table border=\"1\" class=\"dataframe\">\n",
       "  <thead>\n",
       "    <tr style=\"text-align: right;\">\n",
       "      <th></th>\n",
       "      <th>outcome</th>\n",
       "      <th>deck1</th>\n",
       "      <th>deck2</th>\n",
       "      <th>level_1</th>\n",
       "      <th>level_2</th>\n",
       "      <th>hitpoint_1</th>\n",
       "      <th>elixir_1</th>\n",
       "      <th>hitpoint_2</th>\n",
       "      <th>elixir_2</th>\n",
       "    </tr>\n",
       "  </thead>\n",
       "  <tbody>\n",
       "    <tr>\n",
       "      <th>14</th>\n",
       "      <td>True</td>\n",
       "      <td>[Barbarians, Freeze, Baby Dragon, Valkyrie, Me...</td>\n",
       "      <td>[Ice Wizard, X-Bow, The Log, Tornado, Rocket, ...</td>\n",
       "      <td>[14, 7, 8, 12, 5, 8, 14, 7]</td>\n",
       "      <td>[5, 9, 6, 9, 12, 12, 14, 11]</td>\n",
       "      <td>[888.0, 79.0, 968.0, 2190.0, 0.0, 1270.0, 176....</td>\n",
       "      <td>33.0</td>\n",
       "      <td>[0.0, 1383.0, 0.0, 0.0, 0.0, 2190.0, 1525.0, 8...</td>\n",
       "      <td>29.0</td>\n",
       "    </tr>\n",
       "    <tr>\n",
       "      <th>15</th>\n",
       "      <td>False</td>\n",
       "      <td>[Barbarians, Freeze, Baby Dragon, Valkyrie, Me...</td>\n",
       "      <td>[Skeletons, Fireball, Zap, Ice Spirit, Inferno...</td>\n",
       "      <td>[14, 7, 8, 12, 5, 8, 14, 7]</td>\n",
       "      <td>[10, 12, 14, 12, 6, 6, 14, 6]</td>\n",
       "      <td>[888.0, 79.0, 968.0, 2190.0, 0.0, 1270.0, 176....</td>\n",
       "      <td>33.0</td>\n",
       "      <td>[74.0, 757.0, 0.0, 252.0, 0.0, 0.0, 384.0, 0.0]</td>\n",
       "      <td>27.0</td>\n",
       "    </tr>\n",
       "  </tbody>\n",
       "</table>\n",
       "</div>"
      ],
      "text/plain": [
       "    outcome                                              deck1  \\\n",
       "14     True  [Barbarians, Freeze, Baby Dragon, Valkyrie, Me...   \n",
       "15    False  [Barbarians, Freeze, Baby Dragon, Valkyrie, Me...   \n",
       "\n",
       "                                                deck2  \\\n",
       "14  [Ice Wizard, X-Bow, The Log, Tornado, Rocket, ...   \n",
       "15  [Skeletons, Fireball, Zap, Ice Spirit, Inferno...   \n",
       "\n",
       "                        level_1                        level_2  \\\n",
       "14  [14, 7, 8, 12, 5, 8, 14, 7]   [5, 9, 6, 9, 12, 12, 14, 11]   \n",
       "15  [14, 7, 8, 12, 5, 8, 14, 7]  [10, 12, 14, 12, 6, 6, 14, 6]   \n",
       "\n",
       "                                           hitpoint_1  elixir_1  \\\n",
       "14  [888.0, 79.0, 968.0, 2190.0, 0.0, 1270.0, 176....      33.0   \n",
       "15  [888.0, 79.0, 968.0, 2190.0, 0.0, 1270.0, 176....      33.0   \n",
       "\n",
       "                                           hitpoint_2  elixir_2  \n",
       "14  [0.0, 1383.0, 0.0, 0.0, 0.0, 2190.0, 1525.0, 8...      29.0  \n",
       "15    [74.0, 757.0, 0.0, 252.0, 0.0, 0.0, 384.0, 0.0]      27.0  "
      ]
     },
     "execution_count": 83,
     "metadata": {},
     "output_type": "execute_result"
    }
   ],
   "source": [
    "df_merged.head(2)"
   ]
  },
  {
   "cell_type": "code",
   "execution_count": null,
   "id": "c2c36345",
   "metadata": {},
   "outputs": [],
   "source": []
  }
 ],
 "metadata": {
  "kernelspec": {
   "display_name": "Python 3 (ipykernel)",
   "language": "python",
   "name": "python3"
  },
  "language_info": {
   "codemirror_mode": {
    "name": "ipython",
    "version": 3
   },
   "file_extension": ".py",
   "mimetype": "text/x-python",
   "name": "python",
   "nbconvert_exporter": "python",
   "pygments_lexer": "ipython3",
   "version": "3.9.13"
  }
 },
 "nbformat": 4,
 "nbformat_minor": 5
}

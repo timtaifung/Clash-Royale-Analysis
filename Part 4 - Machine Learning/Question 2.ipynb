{
 "cells": [
  {
   "cell_type": "markdown",
   "id": "3600edb4",
   "metadata": {},
   "source": [
    "# Which cards are most commonly used by top players?\n",
    "This approach preprocesses the dataset by combining the deck1 and deck2 columns into a single column and converting it into a document-term matrix using CountVectorizer. It then trains an LDA model on the document-term matrix to identify topics, and identifies the most common cards associated with each topic. The top cards associated with the most frequent topics can be considered the most commonly used by top players. Note that this is just an example approach, and there may be other factors that contribute to card usage besides the top players."
   ]
  },
  {
   "cell_type": "code",
   "execution_count": 27,
   "id": "600e8110",
   "metadata": {},
   "outputs": [
    {
     "name": "stdout",
     "output_type": "stream",
     "text": [
      "Requirement already satisfied: mlxtend in c:\\users\\arthu\\anaconda3\\lib\\site-packages (0.22.0)\n",
      "Requirement already satisfied: pandas>=0.24.2 in c:\\users\\arthu\\anaconda3\\lib\\site-packages (from mlxtend) (1.4.4)\n",
      "Requirement already satisfied: matplotlib>=3.0.0 in c:\\users\\arthu\\anaconda3\\lib\\site-packages (from mlxtend) (3.5.2)\n",
      "Requirement already satisfied: scipy>=1.2.1 in c:\\users\\arthu\\anaconda3\\lib\\site-packages (from mlxtend) (1.9.1)\n",
      "Requirement already satisfied: joblib>=0.13.2 in c:\\users\\arthu\\anaconda3\\lib\\site-packages (from mlxtend) (1.1.0)\n",
      "Requirement already satisfied: numpy>=1.16.2 in c:\\users\\arthu\\anaconda3\\lib\\site-packages (from mlxtend) (1.21.5)\n",
      "Requirement already satisfied: scikit-learn>=1.0.2 in c:\\users\\arthu\\anaconda3\\lib\\site-packages (from mlxtend) (1.0.2)\n",
      "Requirement already satisfied: setuptools in c:\\users\\arthu\\anaconda3\\lib\\site-packages (from mlxtend) (63.4.1)\n",
      "Requirement already satisfied: python-dateutil>=2.7 in c:\\users\\arthu\\anaconda3\\lib\\site-packages (from matplotlib>=3.0.0->mlxtend) (2.8.2)\n",
      "Requirement already satisfied: pillow>=6.2.0 in c:\\users\\arthu\\anaconda3\\lib\\site-packages (from matplotlib>=3.0.0->mlxtend) (9.2.0)\n",
      "Requirement already satisfied: pyparsing>=2.2.1 in c:\\users\\arthu\\anaconda3\\lib\\site-packages (from matplotlib>=3.0.0->mlxtend) (3.0.9)\n",
      "Requirement already satisfied: kiwisolver>=1.0.1 in c:\\users\\arthu\\anaconda3\\lib\\site-packages (from matplotlib>=3.0.0->mlxtend) (1.4.2)\n",
      "Requirement already satisfied: packaging>=20.0 in c:\\users\\arthu\\anaconda3\\lib\\site-packages (from matplotlib>=3.0.0->mlxtend) (21.3)\n",
      "Requirement already satisfied: fonttools>=4.22.0 in c:\\users\\arthu\\anaconda3\\lib\\site-packages (from matplotlib>=3.0.0->mlxtend) (4.25.0)\n",
      "Requirement already satisfied: cycler>=0.10 in c:\\users\\arthu\\anaconda3\\lib\\site-packages (from matplotlib>=3.0.0->mlxtend) (0.11.0)\n",
      "Requirement already satisfied: pytz>=2020.1 in c:\\users\\arthu\\anaconda3\\lib\\site-packages (from pandas>=0.24.2->mlxtend) (2022.1)\n",
      "Requirement already satisfied: threadpoolctl>=2.0.0 in c:\\users\\arthu\\anaconda3\\lib\\site-packages (from scikit-learn>=1.0.2->mlxtend) (2.2.0)\n",
      "Requirement already satisfied: six>=1.5 in c:\\users\\arthu\\anaconda3\\lib\\site-packages (from python-dateutil>=2.7->matplotlib>=3.0.0->mlxtend) (1.16.0)\n"
     ]
    }
   ],
   "source": [
    "!pip install mlxtend\n",
    "import pandas as pd\n",
    "from sklearn.preprocessing import MultiLabelBinarizer\n",
    "from mlxtend.frequent_patterns import apriori, association_rules\n",
    "import ast"
   ]
  },
  {
   "cell_type": "code",
   "execution_count": 28,
   "id": "98e9d952",
   "metadata": {},
   "outputs": [
    {
     "data": {
      "text/html": [
       "<div>\n",
       "<style scoped>\n",
       "    .dataframe tbody tr th:only-of-type {\n",
       "        vertical-align: middle;\n",
       "    }\n",
       "\n",
       "    .dataframe tbody tr th {\n",
       "        vertical-align: top;\n",
       "    }\n",
       "\n",
       "    .dataframe thead th {\n",
       "        text-align: right;\n",
       "    }\n",
       "</style>\n",
       "<table border=\"1\" class=\"dataframe\">\n",
       "  <thead>\n",
       "    <tr style=\"text-align: right;\">\n",
       "      <th></th>\n",
       "      <th>type</th>\n",
       "      <th>gameMode</th>\n",
       "      <th>crowns1</th>\n",
       "      <th>startingTrophies2</th>\n",
       "      <th>crowns2</th>\n",
       "      <th>deck1</th>\n",
       "      <th>deck2</th>\n",
       "      <th>max_level_1</th>\n",
       "      <th>level_1</th>\n",
       "      <th>max_level_2</th>\n",
       "      <th>level_2</th>\n",
       "      <th>avg_cards_level_1</th>\n",
       "      <th>avg_cards_level_2</th>\n",
       "      <th>avg_cards_level_diff</th>\n",
       "      <th>1_won</th>\n",
       "      <th>2_won</th>\n",
       "    </tr>\n",
       "  </thead>\n",
       "  <tbody>\n",
       "    <tr>\n",
       "      <th>0</th>\n",
       "      <td>PvP</td>\n",
       "      <td>{'id': 72000201, 'name': 'Ladder_CrownRush'}</td>\n",
       "      <td>0</td>\n",
       "      <td>5807.0</td>\n",
       "      <td>3</td>\n",
       "      <td>[Arrows, Bomber, Electro Wizard, Skeleton Army...</td>\n",
       "      <td>[Magic Archer, Mega Knight, Electro Wizard, Go...</td>\n",
       "      <td>[14, 14, 6, 9, 14, 12, 12, 6]</td>\n",
       "      <td>[11, 12, 2, 5, 14, 12, 10, 3]</td>\n",
       "      <td>[6, 6, 6, 9, 6, 9, 14, 12]</td>\n",
       "      <td>[4, 6, 4, 8, 3, 9, 13, 12]</td>\n",
       "      <td>11.75</td>\n",
       "      <td>12.875</td>\n",
       "      <td>1.125</td>\n",
       "      <td>False</td>\n",
       "      <td>True</td>\n",
       "    </tr>\n",
       "    <tr>\n",
       "      <th>1</th>\n",
       "      <td>PvP</td>\n",
       "      <td>{'id': 72000201, 'name': 'Ladder_CrownRush'}</td>\n",
       "      <td>0</td>\n",
       "      <td>5857.0</td>\n",
       "      <td>2</td>\n",
       "      <td>[Arrows, Bomber, Electro Wizard, Skeleton Army...</td>\n",
       "      <td>[Mini P.E.K.K.A, Wall Breakers, Valkyrie, Gobl...</td>\n",
       "      <td>[14, 14, 6, 9, 14, 12, 12, 6]</td>\n",
       "      <td>[11, 12, 2, 5, 14, 12, 10, 3]</td>\n",
       "      <td>[12, 9, 12, 9, 12, 9, 14, 6]</td>\n",
       "      <td>[12, 7, 10, 8, 10, 9, 12, 4]</td>\n",
       "      <td>11.75</td>\n",
       "      <td>12.625</td>\n",
       "      <td>0.875</td>\n",
       "      <td>False</td>\n",
       "      <td>True</td>\n",
       "    </tr>\n",
       "  </tbody>\n",
       "</table>\n",
       "</div>"
      ],
      "text/plain": [
       "  type                                      gameMode  crowns1  \\\n",
       "0  PvP  {'id': 72000201, 'name': 'Ladder_CrownRush'}        0   \n",
       "1  PvP  {'id': 72000201, 'name': 'Ladder_CrownRush'}        0   \n",
       "\n",
       "   startingTrophies2  crowns2  \\\n",
       "0             5807.0        3   \n",
       "1             5857.0        2   \n",
       "\n",
       "                                               deck1  \\\n",
       "0  [Arrows, Bomber, Electro Wizard, Skeleton Army...   \n",
       "1  [Arrows, Bomber, Electro Wizard, Skeleton Army...   \n",
       "\n",
       "                                               deck2  \\\n",
       "0  [Magic Archer, Mega Knight, Electro Wizard, Go...   \n",
       "1  [Mini P.E.K.K.A, Wall Breakers, Valkyrie, Gobl...   \n",
       "\n",
       "                     max_level_1                        level_1  \\\n",
       "0  [14, 14, 6, 9, 14, 12, 12, 6]  [11, 12, 2, 5, 14, 12, 10, 3]   \n",
       "1  [14, 14, 6, 9, 14, 12, 12, 6]  [11, 12, 2, 5, 14, 12, 10, 3]   \n",
       "\n",
       "                    max_level_2                       level_2  \\\n",
       "0    [6, 6, 6, 9, 6, 9, 14, 12]    [4, 6, 4, 8, 3, 9, 13, 12]   \n",
       "1  [12, 9, 12, 9, 12, 9, 14, 6]  [12, 7, 10, 8, 10, 9, 12, 4]   \n",
       "\n",
       "   avg_cards_level_1  avg_cards_level_2  avg_cards_level_diff  1_won  2_won  \n",
       "0              11.75             12.875                 1.125  False   True  \n",
       "1              11.75             12.625                 0.875  False   True  "
      ]
     },
     "execution_count": 28,
     "metadata": {},
     "output_type": "execute_result"
    }
   ],
   "source": [
    "df=pd.read_csv(\"../Common/Final Cleaned/battle_log_cleaned.csv\")\n",
    "df['deck1'] = df['deck1'].apply(ast.literal_eval)\n",
    "df['deck2'] = df['deck2'].apply(ast.literal_eval)\n",
    "df.head(2)"
   ]
  },
  {
   "cell_type": "code",
   "execution_count": 29,
   "id": "44d80966",
   "metadata": {},
   "outputs": [],
   "source": [
    "mlb = MultiLabelBinarizer()\n",
    "card_matrix = mlb.fit_transform(df[\"deck1\"])\n"
   ]
  },
  {
   "cell_type": "code",
   "execution_count": 30,
   "id": "66f4192d",
   "metadata": {},
   "outputs": [
    {
     "name": "stderr",
     "output_type": "stream",
     "text": [
      "C:\\Users\\arthu\\anaconda3\\lib\\site-packages\\mlxtend\\frequent_patterns\\fpcommon.py:110: DeprecationWarning: DataFrames with non-bool types result in worse computationalperformance and their support might be discontinued in the future.Please use a DataFrame with bool type\n",
      "  warnings.warn(\n"
     ]
    }
   ],
   "source": [
    "high_trophy_players = df[df[\"startingTrophies2\"] > df[\"startingTrophies2\"].quantile(0.75)]\n",
    "card_df = pd.DataFrame(card_matrix, columns=mlb.classes_)\n",
    "\n",
    "frequent_itemsets = apriori(card_df.loc[high_trophy_players.index], min_support=0.1, use_colnames=True)\n",
    "rules = association_rules(frequent_itemsets, metric=\"lift\", min_threshold=1)\n",
    "rules = rules.sort_values(by=[\"lift\", \"support\"], ascending=[False, False])\n"
   ]
  },
  {
   "cell_type": "code",
   "execution_count": 31,
   "id": "025eabe4",
   "metadata": {},
   "outputs": [],
   "source": [
    "most_common_cards = card_df.loc[high_trophy_players.index].mean().sort_values(ascending=False).head(10)\n",
    "most_common_itemsets = rules[[\"antecedents\", \"consequents\", \"support\", \"lift\"]].head(10)\n"
   ]
  },
  {
   "cell_type": "code",
   "execution_count": 33,
   "id": "2b7dc3ef",
   "metadata": {
    "scrolled": false
   },
   "outputs": [
    {
     "name": "stdout",
     "output_type": "stream",
     "text": [
      "Most commonly used individual cards by top players:\n",
      "Valkyrie         0.375627\n",
      "Hog Rider        0.359429\n",
      "The Log          0.347860\n",
      "Zap              0.315850\n",
      "Fireball         0.280756\n",
      "Arrows           0.267644\n",
      "Mega Knight      0.264558\n",
      "Wizard           0.236020\n",
      "Goblin Barrel    0.224450\n",
      "Skeleton Army    0.223679\n",
      "dtype: float64\n",
      "\n",
      "Most commonly used card combinations by top players:\n",
      "        antecedents      consequents   support      lift\n",
      "4     (Mega Knight)           (Bats)  0.107212  2.235761\n",
      "5            (Bats)    (Mega Knight)  0.107212  2.235761\n",
      "6        (Fireball)      (Hog Rider)  0.139221  1.379629\n",
      "7       (Hog Rider)       (Fireball)  0.139221  1.379629\n",
      "10        (The Log)  (Goblin Barrel)  0.102970  1.318816\n",
      "11  (Goblin Barrel)        (The Log)  0.102970  1.318816\n",
      "18       (Valkyrie)      (Hog Rider)  0.177015  1.311114\n",
      "19      (Hog Rider)       (Valkyrie)  0.177015  1.311114\n",
      "12       (Valkyrie)  (Goblin Barrel)  0.102584  1.216752\n",
      "13  (Goblin Barrel)       (Valkyrie)  0.102584  1.216752\n"
     ]
    }
   ],
   "source": [
    "most_common_cards = card_df.loc[high_trophy_players.index].mean().sort_values(ascending=False).head(10)\n",
    "most_common_itemsets = rules[[\"antecedents\", \"consequents\", \"support\", \"lift\"]].head(10)\n",
    "\n",
    "print(\"Most commonly used individual cards by top players:\")\n",
    "print(most_common_cards)\n",
    "\n",
    "print(\"\\nMost commonly used card combinations by top players:\")\n",
    "print(most_common_itemsets)\n"
   ]
  },
  {
   "cell_type": "markdown",
   "id": "36e9e49d",
   "metadata": {},
   "source": [
    "## Conclusion\n",
    "\n",
    "Based on the analysis, we can conclude that Valkyrie, Hog Rider, and The Log are the three most commonly used individual cards by top players. In terms of card combinations, Mega Knight and Bats, Bats and Mega Knight, Fireball and Hog Rider, Hog Rider and Fireball, and The Log and Goblin Barrel are among the most commonly used card combinations by top players. These insights can be used to inform gameplay strategy, as players can consider using these cards and combinations in their own decks to improve their chances of winning battles."
   ]
  }
 ],
 "metadata": {
  "kernelspec": {
   "display_name": "Python 3 (ipykernel)",
   "language": "python",
   "name": "python3"
  },
  "language_info": {
   "codemirror_mode": {
    "name": "ipython",
    "version": 3
   },
   "file_extension": ".py",
   "mimetype": "text/x-python",
   "name": "python",
   "nbconvert_exporter": "python",
   "pygments_lexer": "ipython3",
   "version": "3.9.13"
  }
 },
 "nbformat": 4,
 "nbformat_minor": 5
}
